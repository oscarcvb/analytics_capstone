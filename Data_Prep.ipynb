{
 "cells": [
  {
   "cell_type": "code",
   "execution_count": 1,
   "metadata": {},
   "outputs": [],
   "source": [
    "import pandas as pd\n",
    "import numpy as np\n",
    "import seaborn as sns\n",
    "import matplotlib.pyplot as plt"
   ]
  },
  {
   "cell_type": "code",
   "execution_count": 2,
   "metadata": {},
   "outputs": [],
   "source": [
    "data=pd.read_csv('raw_data.csv')"
   ]
  },
  {
   "cell_type": "code",
   "execution_count": 3,
   "metadata": {},
   "outputs": [
    {
     "data": {
      "text/plain": [
       "(10422, 100)"
      ]
     },
     "execution_count": 3,
     "metadata": {},
     "output_type": "execute_result"
    }
   ],
   "source": [
    "data.shape"
   ]
  },
  {
   "cell_type": "code",
   "execution_count": 4,
   "metadata": {},
   "outputs": [],
   "source": [
    "drop_none=['PEFAMID','PAS1MRG1','PAS1MRG2','PWARPPG','PWATOTPG','PWNETWPG','VERDATE']\n",
    "data.drop(columns=drop_none, inplace=True)"
   ]
  },
  {
   "cell_type": "code",
   "execution_count": 5,
   "metadata": {},
   "outputs": [
    {
     "data": {
      "text/plain": [
       "(10422, 93)"
      ]
     },
     "execution_count": 5,
     "metadata": {},
     "output_type": "execute_result"
    }
   ],
   "source": [
    "data.shape"
   ]
  },
  {
   "cell_type": "markdown",
   "metadata": {},
   "source": [
    "DATA CLEANING"
   ]
  },
  {
   "cell_type": "markdown",
   "metadata": {},
   "source": [
    "1. Real Estate"
   ]
  },
  {
   "cell_type": "code",
   "execution_count": 6,
   "metadata": {},
   "outputs": [
    {
     "name": "stdout",
     "output_type": "stream",
     "text": [
      "62.4058 % of households own a home in CANADA\n"
     ]
    }
   ],
   "source": [
    "# 1 - Create D_PASRBUYG': Home owner IN Canada? (32)\n",
    "data['D_PASRBUYG']=data['PASRBUYG']\n",
    "data['D_PASRBUYG']=np.where((data['D_PASRBUYG']!=96),1,0)\n",
    "print((data[data['D_PASRBUYG']==1]['PWEIGHT'].sum()/data['PWEIGHT'].sum()*100).round(4),'% of households own a home in CANADA')"
   ]
  },
  {
   "cell_type": "code",
   "execution_count": 7,
   "metadata": {},
   "outputs": [],
   "source": [
    "# 1 - Recode to years (32)\n",
    "data['PASRBUYG']=np.where(data['PASRBUYG']==96, (2019-2019),\n",
    "np.where(data['PASRBUYG']==1, (2019-1960),\n",
    "np.where(data['PASRBUYG']==2, (2019-1970),\n",
    "np.where(data['PASRBUYG']==3, (2019-1980),\n",
    "np.where(data['PASRBUYG']==4, (2019-1990),\n",
    "np.where(data['PASRBUYG']==5, (2019-2000),  \n",
    "np.where(data['PASRBUYG']==6, (2019-2005),\n",
    "np.where(data['PASRBUYG']==7, (2019-2010),\n",
    "np.where(data['PASRBUYG']==8, (2019-2015),\n",
    "np.where(data['PASRBUYG']==9, (2019-2017), 1))))))))))\n"
   ]
  },
  {
   "cell_type": "code",
   "execution_count": 8,
   "metadata": {},
   "outputs": [],
   "source": [
    "#(pd.DataFrame(data['PASRBUYG'].value_counts())).sort_index()"
   ]
  },
  {
   "cell_type": "code",
   "execution_count": 9,
   "metadata": {},
   "outputs": [
    {
     "name": "stdout",
     "output_type": "stream",
     "text": [
      "13.12 % of households have OTHER real estate IN Canada\n"
     ]
    }
   ],
   "source": [
    "# 2 - Create D_PASRCNMG: A dummy variable for 'OTHER' real estate IN Canada (34)\n",
    "data['D_PASRCNMG']=data['PASRCNMG']\n",
    "data['D_PASRCNMG']=np.where(data['D_PASRCNMG']==6,0,1)\n",
    "print((data[data['D_PASRCNMG']==1]['PWEIGHT'].sum()/data['PWEIGHT'].sum()*100).round(2),'% of households have OTHER real estate IN Canada')"
   ]
  },
  {
   "cell_type": "code",
   "execution_count": 10,
   "metadata": {},
   "outputs": [
    {
     "data": {
      "text/plain": [
       "4"
      ]
     },
     "execution_count": 10,
     "metadata": {},
     "output_type": "execute_result"
    }
   ],
   "source": [
    "# 2.1 - Recode missings to zeroes (34)\n",
    "data['PASRCNMG'].replace(to_replace=[6], value=[0],inplace=True)\n",
    "data['PASRCNMG'].max()"
   ]
  },
  {
   "cell_type": "code",
   "execution_count": 11,
   "metadata": {},
   "outputs": [
    {
     "name": "stdout",
     "output_type": "stream",
     "text": [
      "   D_PASRFNMG\n",
      "0        9877\n",
      "1         545\n",
      "   PASRFNMG\n",
      "0      9877\n",
      "1       427\n",
      "2       118\n"
     ]
    }
   ],
   "source": [
    "# 3 - Create D_PASRFNMG: dummy for those who have a property OUTSIDE of Canada / Recoding (53)\n",
    "data['PASRFNMG'].replace(to_replace=[6],value=[0], inplace=True)\n",
    "\n",
    "data['D_PASRFNMG']=data['PASRFNMG']\n",
    "data['D_PASRFNMG']=np.where(data['D_PASRFNMG']==0,0,1)\n",
    "\n",
    "print((pd.DataFrame(data['D_PASRFNMG'].value_counts())).sort_index())\n",
    "print((pd.DataFrame(data['PASRFNMG'].value_counts())).sort_index())"
   ]
  },
  {
   "cell_type": "code",
   "execution_count": 12,
   "metadata": {},
   "outputs": [
    {
     "name": "stdout",
     "output_type": "stream",
     "text": [
      "   PASRCON\n",
      "1     1045\n",
      "2     9377\n"
     ]
    }
   ],
   "source": [
    "# 4 - Recode: Class collapse (35)\n",
    "data['PASRCON'].replace(to_replace=[9], value=[2], inplace=True)\n",
    "print((pd.DataFrame(data['PASRCON'].value_counts())).sort_index())"
   ]
  },
  {
   "cell_type": "code",
   "execution_count": 13,
   "metadata": {},
   "outputs": [
    {
     "name": "stdout",
     "output_type": "stream",
     "text": [
      "New mean: 193677.29658414892\n",
      "Max: 3800000\n",
      "PASRCST has been dropped\n"
     ]
    }
   ],
   "source": [
    "# 5 - Impute: zeroes to those who did not purchase a house (36) / drop original variable\n",
    "data['PASRCST'].replace(to_replace=[99999999], value=[99999996], inplace=True)\n",
    "data['IMP_PASRCST']=data['PASRCST']\n",
    "data['IMP_PASRCST'].replace(to_replace=[99999996], value=[0], inplace=True)\n",
    "data.drop(columns=['PASRCST'], inplace=True)\n",
    "print('New mean:',data['IMP_PASRCST'].mean())\n",
    "print('Max:',data.IMP_PASRCST.max())\n",
    "print('PASRCST has been dropped')"
   ]
  },
  {
   "cell_type": "code",
   "execution_count": 14,
   "metadata": {},
   "outputs": [],
   "source": [
    "# 6 - Recode variable to percentages (51)\n",
    "data['PASRDWNG'].replace(to_replace=[96], value=[0], inplace=True)\n",
    "data['PASRDWNG']=np.where(data['PASRDWNG']==0, 0,\n",
    "np.where(data['PASRDWNG']==1, 5,\n",
    "np.where(data['PASRDWNG']==2, 15,\n",
    "np.where(data['PASRDWNG']==3, 25,\n",
    "np.where(data['PASRDWNG']==4, 35,\n",
    "np.where(data['PASRDWNG']==5, 45,  \n",
    "np.where(data['PASRDWNG']==6, 55,\n",
    "np.where(data['PASRDWNG']==7, 65,\n",
    "np.where(data['PASRDWNG']==8, 90, 100)))))))))"
   ]
  },
  {
   "cell_type": "code",
   "execution_count": 15,
   "metadata": {},
   "outputs": [],
   "source": [
    "#(pd.DataFrame(data['PASRDWNG'].value_counts())).sort_index()"
   ]
  },
  {
   "cell_type": "code",
   "execution_count": 16,
   "metadata": {},
   "outputs": [],
   "source": [
    "# 7 - Recode variable - Class collapse (64)\n",
    "data['PASRRNTG'].replace(to_replace=[9], value=[6], inplace=True)"
   ]
  },
  {
   "cell_type": "code",
   "execution_count": 17,
   "metadata": {},
   "outputs": [
    {
     "data": {
      "text/plain": [
       "0    6743\n",
       "1    3679\n",
       "Name: D_PFTENUR, dtype: int64"
      ]
     },
     "execution_count": 17,
     "metadata": {},
     "output_type": "execute_result"
    }
   ],
   "source": [
    "# 8 - D_PFTENUR: Dummy for homeowners with no mortgage (138)\n",
    "data['D_PFTENUR']=data['PFTENUR']\n",
    "data['D_PFTENUR']=np.where(data['D_PFTENUR']==1,1,0)\n",
    "data['D_PFTENUR'].value_counts()"
   ]
  },
  {
   "cell_type": "code",
   "execution_count": 18,
   "metadata": {},
   "outputs": [
    {
     "data": {
      "text/plain": [
       "(10422, 97)"
      ]
     },
     "execution_count": 18,
     "metadata": {},
     "output_type": "execute_result"
    }
   ],
   "source": [
    "data.shape"
   ]
  },
  {
   "cell_type": "markdown",
   "metadata": {},
   "source": [
    "2. Mortgage"
   ]
  },
  {
   "cell_type": "code",
   "execution_count": 19,
   "metadata": {},
   "outputs": [
    {
     "name": "stdout",
     "output_type": "stream",
     "text": [
      "34.83 % of households have at least one mortgage in Canada\n"
     ]
    }
   ],
   "source": [
    "# 1 - Create D_PASR1MR: A dummy mortgage variable (31); also look to 138\n",
    "data['D_PASR1MR']=data['PASR1MR']\n",
    "data['D_PASR1MR']=np.where(data['D_PASR1MR']==6,0,1)\n",
    "print((data[data['D_PASR1MR']==1]['PWEIGHT'].sum()/data['PWEIGHT'].sum()*100).round(2),'% of households have at least one mortgage in Canada')"
   ]
  },
  {
   "cell_type": "code",
   "execution_count": 20,
   "metadata": {},
   "outputs": [
    {
     "name": "stdout",
     "output_type": "stream",
     "text": [
      "Households ith a 99996 code: 0\n",
      "(ALL) Households (INCLUDING THOSE THAT DONT HAVE MORTGAGES) make an average payment of: 367.60650546919976\n",
      "PEXMG1A has been dropped\n"
     ]
    }
   ],
   "source": [
    "# 2 - Create IMP_PEXMG1A: Zeroes are imputed to those who dont have a mortgage (123)\n",
    "data['IMP_PEXMG1A']=data['PEXMG1A']\n",
    "data.loc[data['IMP_PEXMG1A']==99996,['IMP_PEXMG1A']]=0\n",
    "print('Households ith a 99996 code:',data[data['IMP_PEXMG1A']==99996]['IMP_PEXMG1A'].count())\n",
    "print('(ALL) Households (INCLUDING THOSE THAT DONT HAVE MORTGAGES) make an average payment of:',data.IMP_PEXMG1A.mean())\n",
    "data.drop(columns=['PEXMG1A'], inplace=True)\n",
    "print('PEXMG1A has been dropped')"
   ]
  },
  {
   "cell_type": "code",
   "execution_count": 21,
   "metadata": {},
   "outputs": [
    {
     "data": {
      "text/html": [
       "<div>\n",
       "<style scoped>\n",
       "    .dataframe tbody tr th:only-of-type {\n",
       "        vertical-align: middle;\n",
       "    }\n",
       "\n",
       "    .dataframe tbody tr th {\n",
       "        vertical-align: top;\n",
       "    }\n",
       "\n",
       "    .dataframe thead th {\n",
       "        text-align: right;\n",
       "    }\n",
       "</style>\n",
       "<table border=\"1\" class=\"dataframe\">\n",
       "  <thead>\n",
       "    <tr style=\"text-align: right;\">\n",
       "      <th></th>\n",
       "      <th>New Code</th>\n",
       "      <th>Payment Frequency</th>\n",
       "      <th>Count</th>\n",
       "    </tr>\n",
       "  </thead>\n",
       "  <tbody>\n",
       "    <tr>\n",
       "      <th>0</th>\n",
       "      <td>0</td>\n",
       "      <td>Skip</td>\n",
       "      <td>6707</td>\n",
       "    </tr>\n",
       "    <tr>\n",
       "      <th>1</th>\n",
       "      <td>1</td>\n",
       "      <td>Monthly</td>\n",
       "      <td>1413</td>\n",
       "    </tr>\n",
       "    <tr>\n",
       "      <th>2</th>\n",
       "      <td>2</td>\n",
       "      <td>Every two weeks</td>\n",
       "      <td>1870</td>\n",
       "    </tr>\n",
       "    <tr>\n",
       "      <th>3</th>\n",
       "      <td>4</td>\n",
       "      <td>Weekly</td>\n",
       "      <td>432</td>\n",
       "    </tr>\n",
       "  </tbody>\n",
       "</table>\n",
       "</div>"
      ],
      "text/plain": [
       "   New Code Payment Frequency  Count\n",
       "0         0              Skip   6707\n",
       "1         1           Monthly   1413\n",
       "2         2   Every two weeks   1870\n",
       "3         4            Weekly    432"
      ]
     },
     "execution_count": 21,
     "metadata": {},
     "output_type": "execute_result"
    }
   ],
   "source": [
    "# 3 - Mortgage payment recode (128)\n",
    "data['PEXMG1F'].replace(to_replace=[6],value=[0], inplace=True)\n",
    "data['PEXMG1F'].replace(to_replace=[5],value=[0], inplace=True)\n",
    "data['PEXMG1F'].replace(to_replace=[4],value=[2], inplace=True)\n",
    "code=[0,1,2,4]\n",
    "mort_payment_freq=['Skip','Monthly','Every two weeks','Weekly']\n",
    "pd.DataFrame({'New Code':code,'Payment Frequency':mort_payment_freq, 'Count':data['PEXMG1F'].value_counts().sort_index()})"
   ]
  },
  {
   "cell_type": "code",
   "execution_count": 22,
   "metadata": {},
   "outputs": [
    {
     "name": "stdout",
     "output_type": "stream",
     "text": [
      "8.01 % of households made mortgage payments on additional properties\n"
     ]
    }
   ],
   "source": [
    "# 4.1 - Create D_PASR1MFA': A dummy variable for mortgage payments on additional property(23)\n",
    "data['D_PASR1MFA']=data['PASR1MFA']\n",
    "data['D_PASR1MFA']=np.where((data.D_PASR1MFA!=99999996) & (data.D_PASR1MFA>0),1,0)\n",
    "print((data[data['D_PASR1MFA']==1]['PWEIGHT'].sum()/data['PWEIGHT'].sum()*100).round(2),'% of households made mortgage payments on additional properties')"
   ]
  },
  {
   "cell_type": "code",
   "execution_count": 23,
   "metadata": {},
   "outputs": [
    {
     "name": "stdout",
     "output_type": "stream",
     "text": [
      "Households with a 99999996 code: 0\n",
      "(ALL) Households (INCLUDING THOSE THAT DONT HAVE MORTGAGES ON ADDITIONAL PROPERTIES) make a ADDITIONAL average mortgage payment of: 367.60650546919976\n",
      "PASR1MFA has been dropped\n"
     ]
    }
   ],
   "source": [
    "# 4.2 - Creating a IMP_PASR1MFA: Zeroes are imputed to those who skipped the question (23) - \n",
    "# Do you a mortgage? NO - Skip\n",
    "# Do you have a mortgage on additional properties? - YES; How much do you pay? $ X amount of dollars\n",
    "# Do you have a mortgage on additional properties? - NO; How much do you pay? $ 0 dollars\n",
    "data['IMP_PASR1MFA']=data['PASR1MFA']\n",
    "data.loc[data['IMP_PASR1MFA']==99999996,['IMP_PASR1MFA']]=0\n",
    "data.drop(columns=['PASR1MFA'], inplace=True)\n",
    "print('Households with a 99999996 code:',data[data['IMP_PASR1MFA']==99999996]['IMP_PASR1MFA'].count())\n",
    "print('(ALL) Households (INCLUDING THOSE THAT DONT HAVE MORTGAGES ON ADDITIONAL PROPERTIES) make a ADDITIONAL average mortgage payment of:',data.IMP_PEXMG1A.mean())\n",
    "print('PASR1MFA has been dropped')"
   ]
  },
  {
   "cell_type": "code",
   "execution_count": 24,
   "metadata": {},
   "outputs": [
    {
     "name": "stdout",
     "output_type": "stream",
     "text": [
      "0    10186\n",
      "1      236\n",
      "Name: D_PAS1MRAG, dtype: int64\n",
      "PAS1MRAG has been dropped\n"
     ]
    }
   ],
   "source": [
    "# 5 Creating a D_PAS1MRAG: Did you refinance your mortgage? (20)\n",
    "data['D_PAS1MRAG']=np.where(data['PAS1MRAG']==6,0,1)\n",
    "print(data['D_PAS1MRAG'].value_counts())\n",
    "data.drop(columns=['PAS1MRAG'],inplace=True)\n",
    "print('PAS1MRAG has been dropped')"
   ]
  },
  {
   "cell_type": "code",
   "execution_count": 25,
   "metadata": {},
   "outputs": [
    {
     "data": {
      "text/html": [
       "<div>\n",
       "<style scoped>\n",
       "    .dataframe tbody tr th:only-of-type {\n",
       "        vertical-align: middle;\n",
       "    }\n",
       "\n",
       "    .dataframe tbody tr th {\n",
       "        vertical-align: top;\n",
       "    }\n",
       "\n",
       "    .dataframe thead th {\n",
       "        text-align: right;\n",
       "    }\n",
       "</style>\n",
       "<table border=\"1\" class=\"dataframe\">\n",
       "  <thead>\n",
       "    <tr style=\"text-align: right;\">\n",
       "      <th></th>\n",
       "      <th>PASRCURG</th>\n",
       "    </tr>\n",
       "  </thead>\n",
       "  <tbody>\n",
       "    <tr>\n",
       "      <th>0.0</th>\n",
       "      <td>6864</td>\n",
       "    </tr>\n",
       "    <tr>\n",
       "      <th>0.6</th>\n",
       "      <td>44</td>\n",
       "    </tr>\n",
       "    <tr>\n",
       "      <th>1.0</th>\n",
       "      <td>163</td>\n",
       "    </tr>\n",
       "    <tr>\n",
       "      <th>2.0</th>\n",
       "      <td>195</td>\n",
       "    </tr>\n",
       "    <tr>\n",
       "      <th>3.0</th>\n",
       "      <td>597</td>\n",
       "    </tr>\n",
       "    <tr>\n",
       "      <th>4.0</th>\n",
       "      <td>191</td>\n",
       "    </tr>\n",
       "    <tr>\n",
       "      <th>5.0</th>\n",
       "      <td>2264</td>\n",
       "    </tr>\n",
       "    <tr>\n",
       "      <th>10.0</th>\n",
       "      <td>104</td>\n",
       "    </tr>\n",
       "  </tbody>\n",
       "</table>\n",
       "</div>"
      ],
      "text/plain": [
       "      PASRCURG\n",
       "0.0       6864\n",
       "0.6         44\n",
       "1.0        163\n",
       "2.0        195\n",
       "3.0        597\n",
       "4.0        191\n",
       "5.0       2264\n",
       "10.0       104"
      ]
     },
     "execution_count": 25,
     "metadata": {},
     "output_type": "execute_result"
    }
   ],
   "source": [
    "# 6 - Recode skips to 0 and turn codes into years (44)\n",
    "data['PASRCURG'].replace(to_replace=[96], value=[0], inplace=True)\n",
    "data['PASRCURG'].replace(to_replace=[8], value=[0], inplace=True)\n",
    "data['PASRCURG']=np.where(data['PASRCURG']==0,0,\n",
    "np.where(data['PASRCURG']==1,0.6,\n",
    "np.where(data['PASRCURG']==2,1,\n",
    "np.where(data['PASRCURG']==3,2,\n",
    "np.where(data['PASRCURG']==4,3,\n",
    "np.where(data['PASRCURG']==5,4,\n",
    "np.where(data['PASRCURG']==6,5,10)))))))\n",
    "(pd.DataFrame(data['PASRCURG'].value_counts())).sort_index()"
   ]
  },
  {
   "cell_type": "code",
   "execution_count": 26,
   "metadata": {},
   "outputs": [
    {
     "data": {
      "text/html": [
       "<div>\n",
       "<style scoped>\n",
       "    .dataframe tbody tr th:only-of-type {\n",
       "        vertical-align: middle;\n",
       "    }\n",
       "\n",
       "    .dataframe tbody tr th {\n",
       "        vertical-align: top;\n",
       "    }\n",
       "\n",
       "    .dataframe thead th {\n",
       "        text-align: right;\n",
       "    }\n",
       "</style>\n",
       "<table border=\"1\" class=\"dataframe\">\n",
       "  <thead>\n",
       "    <tr style=\"text-align: right;\">\n",
       "      <th></th>\n",
       "      <th>PASRINTG</th>\n",
       "    </tr>\n",
       "  </thead>\n",
       "  <tbody>\n",
       "    <tr>\n",
       "      <th>0.00</th>\n",
       "      <td>6697</td>\n",
       "    </tr>\n",
       "    <tr>\n",
       "      <th>1.99</th>\n",
       "      <td>51</td>\n",
       "    </tr>\n",
       "    <tr>\n",
       "      <th>2.49</th>\n",
       "      <td>366</td>\n",
       "    </tr>\n",
       "    <tr>\n",
       "      <th>2.99</th>\n",
       "      <td>1287</td>\n",
       "    </tr>\n",
       "    <tr>\n",
       "      <th>3.49</th>\n",
       "      <td>1108</td>\n",
       "    </tr>\n",
       "    <tr>\n",
       "      <th>3.99</th>\n",
       "      <td>530</td>\n",
       "    </tr>\n",
       "    <tr>\n",
       "      <th>4.99</th>\n",
       "      <td>244</td>\n",
       "    </tr>\n",
       "    <tr>\n",
       "      <th>6.00</th>\n",
       "      <td>139</td>\n",
       "    </tr>\n",
       "  </tbody>\n",
       "</table>\n",
       "</div>"
      ],
      "text/plain": [
       "      PASRINTG\n",
       "0.00      6697\n",
       "1.99        51\n",
       "2.49       366\n",
       "2.99      1287\n",
       "3.49      1108\n",
       "3.99       530\n",
       "4.99       244\n",
       "6.00       139"
      ]
     },
     "execution_count": 26,
     "metadata": {},
     "output_type": "execute_result"
    }
   ],
   "source": [
    "# 7 - Recoding interest rates (55)\n",
    "data['PASRINTG']=np.where(data['PASRINTG']==96,0,\n",
    "np.where(data['PASRINTG']==1,1.99,\n",
    "np.where(data['PASRINTG']==2,2.49,\n",
    "np.where(data['PASRINTG']==3,2.99,\n",
    "np.where(data['PASRINTG']==4,3.49,\n",
    "np.where(data['PASRINTG']==5,3.99,\n",
    "np.where(data['PASRINTG']==6,4.99,6)))))))\n",
    "(pd.DataFrame(data['PASRINTG'].value_counts())).sort_index()"
   ]
  },
  {
   "cell_type": "code",
   "execution_count": 27,
   "metadata": {},
   "outputs": [
    {
     "data": {
      "text/html": [
       "<div>\n",
       "<style scoped>\n",
       "    .dataframe tbody tr th:only-of-type {\n",
       "        vertical-align: middle;\n",
       "    }\n",
       "\n",
       "    .dataframe tbody tr th {\n",
       "        vertical-align: top;\n",
       "    }\n",
       "\n",
       "    .dataframe thead th {\n",
       "        text-align: right;\n",
       "    }\n",
       "</style>\n",
       "<table border=\"1\" class=\"dataframe\">\n",
       "  <thead>\n",
       "    <tr style=\"text-align: right;\">\n",
       "      <th></th>\n",
       "      <th>PASRMOAG</th>\n",
       "    </tr>\n",
       "  </thead>\n",
       "  <tbody>\n",
       "    <tr>\n",
       "      <th>0</th>\n",
       "      <td>6697</td>\n",
       "    </tr>\n",
       "    <tr>\n",
       "      <th>14</th>\n",
       "      <td>128</td>\n",
       "    </tr>\n",
       "    <tr>\n",
       "      <th>24</th>\n",
       "      <td>708</td>\n",
       "    </tr>\n",
       "    <tr>\n",
       "      <th>29</th>\n",
       "      <td>2298</td>\n",
       "    </tr>\n",
       "    <tr>\n",
       "      <th>40</th>\n",
       "      <td>591</td>\n",
       "    </tr>\n",
       "  </tbody>\n",
       "</table>\n",
       "</div>"
      ],
      "text/plain": [
       "    PASRMOAG\n",
       "0       6697\n",
       "14       128\n",
       "24       708\n",
       "29      2298\n",
       "40       591"
      ]
     },
     "execution_count": 27,
     "metadata": {},
     "output_type": "execute_result"
    }
   ],
   "source": [
    "# 8 - Recoding interest terms codes into years (57)\n",
    "data['PASRMOAG']=np.where(data['PASRMOAG']==6,0,\n",
    "np.where(data['PASRMOAG']==1,14,\n",
    "np.where(data['PASRMOAG']==2,24,\n",
    "np.where(data['PASRMOAG']==3,29,40))))\n",
    "(pd.DataFrame(data['PASRMOAG'].value_counts())).sort_index()"
   ]
  },
  {
   "cell_type": "code",
   "execution_count": 28,
   "metadata": {},
   "outputs": [
    {
     "data": {
      "text/html": [
       "<div>\n",
       "<style scoped>\n",
       "    .dataframe tbody tr th:only-of-type {\n",
       "        vertical-align: middle;\n",
       "    }\n",
       "\n",
       "    .dataframe tbody tr th {\n",
       "        vertical-align: top;\n",
       "    }\n",
       "\n",
       "    .dataframe thead th {\n",
       "        text-align: right;\n",
       "    }\n",
       "</style>\n",
       "<table border=\"1\" class=\"dataframe\">\n",
       "  <thead>\n",
       "    <tr style=\"text-align: right;\">\n",
       "      <th></th>\n",
       "      <th>PASRMPFG</th>\n",
       "    </tr>\n",
       "  </thead>\n",
       "  <tbody>\n",
       "    <tr>\n",
       "      <th>0</th>\n",
       "      <td>6697</td>\n",
       "    </tr>\n",
       "    <tr>\n",
       "      <th>5</th>\n",
       "      <td>343</td>\n",
       "    </tr>\n",
       "    <tr>\n",
       "      <th>9</th>\n",
       "      <td>389</td>\n",
       "    </tr>\n",
       "    <tr>\n",
       "      <th>14</th>\n",
       "      <td>467</td>\n",
       "    </tr>\n",
       "    <tr>\n",
       "      <th>19</th>\n",
       "      <td>825</td>\n",
       "    </tr>\n",
       "    <tr>\n",
       "      <th>24</th>\n",
       "      <td>1213</td>\n",
       "    </tr>\n",
       "    <tr>\n",
       "      <th>30</th>\n",
       "      <td>488</td>\n",
       "    </tr>\n",
       "  </tbody>\n",
       "</table>\n",
       "</div>"
      ],
      "text/plain": [
       "    PASRMPFG\n",
       "0       6697\n",
       "5        343\n",
       "9        389\n",
       "14       467\n",
       "19       825\n",
       "24      1213\n",
       "30       488"
      ]
     },
     "execution_count": 28,
     "metadata": {},
     "output_type": "execute_result"
    }
   ],
   "source": [
    "# 9 - Recoding codes into number of years reaminig in the mortgage (58)\n",
    "data['PASRMPFG']=np.where(data['PASRMPFG']==96,0,\n",
    "np.where(data['PASRMPFG']==1,5,\n",
    "np.where(data['PASRMPFG']==2,9,\n",
    "np.where(data['PASRMPFG']==3,14,\n",
    "np.where(data['PASRMPFG']==4,19,\n",
    "np.where(data['PASRMPFG']==5,24,30))))))\n",
    "(pd.DataFrame(data['PASRMPFG'].value_counts())).sort_index()"
   ]
  },
  {
   "cell_type": "code",
   "execution_count": 29,
   "metadata": {},
   "outputs": [
    {
     "data": {
      "text/html": [
       "<div>\n",
       "<style scoped>\n",
       "    .dataframe tbody tr th:only-of-type {\n",
       "        vertical-align: middle;\n",
       "    }\n",
       "\n",
       "    .dataframe tbody tr th {\n",
       "        vertical-align: top;\n",
       "    }\n",
       "\n",
       "    .dataframe thead th {\n",
       "        text-align: right;\n",
       "    }\n",
       "</style>\n",
       "<table border=\"1\" class=\"dataframe\">\n",
       "  <thead>\n",
       "    <tr style=\"text-align: right;\">\n",
       "      <th></th>\n",
       "      <th>PASRMRYG</th>\n",
       "    </tr>\n",
       "  </thead>\n",
       "  <tbody>\n",
       "    <tr>\n",
       "      <th>0</th>\n",
       "      <td>6697</td>\n",
       "    </tr>\n",
       "    <tr>\n",
       "      <th>1</th>\n",
       "      <td>159</td>\n",
       "    </tr>\n",
       "    <tr>\n",
       "      <th>2</th>\n",
       "      <td>823</td>\n",
       "    </tr>\n",
       "    <tr>\n",
       "      <th>3</th>\n",
       "      <td>807</td>\n",
       "    </tr>\n",
       "    <tr>\n",
       "      <th>4</th>\n",
       "      <td>739</td>\n",
       "    </tr>\n",
       "    <tr>\n",
       "      <th>5</th>\n",
       "      <td>625</td>\n",
       "    </tr>\n",
       "    <tr>\n",
       "      <th>6</th>\n",
       "      <td>572</td>\n",
       "    </tr>\n",
       "  </tbody>\n",
       "</table>\n",
       "</div>"
      ],
      "text/plain": [
       "   PASRMRYG\n",
       "0      6697\n",
       "1       159\n",
       "2       823\n",
       "3       807\n",
       "4       739\n",
       "5       625\n",
       "6       572"
      ]
     },
     "execution_count": 29,
     "metadata": {},
     "output_type": "execute_result"
    }
   ],
   "source": [
    "# 10 - Recoding codes into number of years remaining for renewal (60)\n",
    "data['PASRMRYG']=np.where(data['PASRMRYG']==9996,0,\n",
    "np.where(data['PASRMRYG']==2019,(2019-2018),\n",
    "np.where(data['PASRMRYG']==2020,(2020-2018),\n",
    "np.where(data['PASRMRYG']==2021,(2021-2018),\n",
    "np.where(data['PASRMRYG']==2022,(2022-2018),\n",
    "np.where(data['PASRMRYG']==2023,(2023-2018),6))))))\n",
    "(pd.DataFrame(data['PASRMRYG'].value_counts())).sort_index()"
   ]
  },
  {
   "cell_type": "code",
   "execution_count": 30,
   "metadata": {},
   "outputs": [
    {
     "data": {
      "text/plain": [
       "(10422, 99)"
      ]
     },
     "execution_count": 30,
     "metadata": {},
     "output_type": "execute_result"
    }
   ],
   "source": [
    "data.shape"
   ]
  },
  {
   "cell_type": "markdown",
   "metadata": {},
   "source": [
    "3. Credit & Credit Card"
   ]
  },
  {
   "cell_type": "code",
   "execution_count": 31,
   "metadata": {},
   "outputs": [
    {
     "data": {
      "text/plain": [
       "5.517677265777087"
      ]
     },
     "execution_count": 31,
     "metadata": {},
     "output_type": "execute_result"
    }
   ],
   "source": [
    "# 1- Recode: impute zeroes to skipped values (86) - There's already a dummy: have lines of credit? (86)\n",
    "data['PATTLMLC'].replace(to_replace=[99999996], value=[0], inplace=True)\n",
    "data['PATTLMLC'].skew()"
   ]
  },
  {
   "cell_type": "code",
   "execution_count": 32,
   "metadata": {},
   "outputs": [],
   "source": [
    "# 2- Recode: Imputing zeroes to skipped values (76)\n",
    "data['PATTLCP'].replace(to_replace=[6], value=[0], inplace=True)"
   ]
  },
  {
   "cell_type": "code",
   "execution_count": 33,
   "metadata": {},
   "outputs": [
    {
     "data": {
      "text/plain": [
       "7.353505973637755"
      ]
     },
     "execution_count": 33,
     "metadata": {},
     "output_type": "execute_result"
    }
   ],
   "source": [
    "# 3 - Recode: Imputing zeroes to skipped values (67) - There's already a dummy: have credit cards?\n",
    "data['PATTCRLM'].replace(to_replace=[999996], value=[0], inplace=True)\n",
    "data.PATTCRLM.skew()"
   ]
  },
  {
   "cell_type": "code",
   "execution_count": 34,
   "metadata": {},
   "outputs": [],
   "source": [
    "# 4 - Recoding skips to zeroes (74)\n",
    "data['PATTCRU'].replace(to_replace=[6],value=[0], inplace=True)"
   ]
  },
  {
   "cell_type": "code",
   "execution_count": 35,
   "metadata": {},
   "outputs": [
    {
     "data": {
      "text/plain": [
       "0    7220\n",
       "1    3202\n",
       "Name: D_PATTCRU, dtype: int64"
      ]
     },
     "execution_count": 35,
     "metadata": {},
     "output_type": "execute_result"
    }
   ],
   "source": [
    "# 4.1 - Creating a D_PATTCRU: Did you pay the minimum amount or less? (74)\n",
    "data['D_PATTCRU']=data['PATTCRU']\n",
    "for i in data['D_PATTCRU']:\n",
    "    if i==2:\n",
    "        data['D_PATTCRU'].replace(to_replace=[i], value=[1], inplace=True)\n",
    "    elif i==3:\n",
    "        data['D_PATTCRU'].replace(to_replace=[i], value=[1], inplace=True)\n",
    "    elif i==4:\n",
    "        data['D_PATTCRU'].replace(to_replace=[i], value=[0], inplace=True)\n",
    "    elif i==5:\n",
    "        data['D_PATTCRU'].replace(to_replace=[i], value=[0], inplace=True)\n",
    "data.D_PATTCRU.value_counts()"
   ]
  },
  {
   "cell_type": "code",
   "execution_count": 36,
   "metadata": {},
   "outputs": [
    {
     "data": {
      "text/plain": [
       "1.5    5203\n",
       "3.5    2983\n",
       "5.5    1290\n",
       "0.0     946\n",
       "Name: PFCRN, dtype: int64"
      ]
     },
     "execution_count": 36,
     "metadata": {},
     "output_type": "execute_result"
    }
   ],
   "source": [
    "# 5 - Recoding skips into number of credit cards (129)\n",
    "for i in data['PFCRN']:\n",
    "    if i==4:\n",
    "        data['PFCRN'].replace(to_replace=[i], value=[0], inplace=True)\n",
    "    elif i==1:\n",
    "        data['PFCRN'].replace(to_replace=[i], value=[1.5], inplace=True)\n",
    "    elif i==2:\n",
    "        data['PFCRN'].replace(to_replace=[i], value=[3.5], inplace=True)\n",
    "    elif i==3:\n",
    "        data['PFCRN'].replace(to_replace=[i], value=[5.5], inplace=True)\n",
    "data.PFCRN.value_counts()"
   ]
  },
  {
   "cell_type": "code",
   "execution_count": 37,
   "metadata": {},
   "outputs": [
    {
     "data": {
      "text/plain": [
       "(10422, 100)"
      ]
     },
     "execution_count": 37,
     "metadata": {},
     "output_type": "execute_result"
    }
   ],
   "source": [
    "data.shape"
   ]
  },
  {
   "cell_type": "markdown",
   "metadata": {},
   "source": [
    "4. RRSP"
   ]
  },
  {
   "cell_type": "markdown",
   "metadata": {},
   "source": [
    "5. INCOME"
   ]
  },
  {
   "cell_type": "code",
   "execution_count": 38,
   "metadata": {},
   "outputs": [
    {
     "data": {
      "text/plain": [
       "1    9340\n",
       "0    1082\n",
       "Name: D1_PEFGTR, dtype: int64"
      ]
     },
     "execution_count": 38,
     "metadata": {},
     "output_type": "execute_result"
    }
   ],
   "source": [
    "# 1.1 - Creating D1_PEFGTR: Do you receive government transfers? (105)\n",
    "data['D1_PEFGTR']=data['PEFGTR']\n",
    "for i in data['D1_PEFGTR']:\n",
    "    if i>0:\n",
    "        data['D1_PEFGTR'].replace(to_replace=[i],value=[1],inplace=True)\n",
    "    elif i==0:\n",
    "        data['D1_PEFGTR'].replace(to_replace=[i],value=[0],inplace=True)\n",
    "data['D1_PEFGTR'].value_counts()"
   ]
  },
  {
   "cell_type": "code",
   "execution_count": 39,
   "metadata": {},
   "outputs": [
    {
     "data": {
      "text/plain": [
       "0    9318\n",
       "1    1104\n",
       "Name: D2_PEFGTR, dtype: int64"
      ]
     },
     "execution_count": 39,
     "metadata": {},
     "output_type": "execute_result"
    }
   ],
   "source": [
    "# 1.2 - Creating D2_PEFGTR: is household in the last decile of amount of transfer income? (105)\n",
    "data['D2_PEFGTR']=data['PEFGTR']\n",
    "data['D2_PEFGTR']=np.where(data['D2_PEFGTR']>=data['D2_PEFGTR'].quantile(.9),1,0)\n",
    "data['D2_PEFGTR'].value_counts()"
   ]
  },
  {
   "cell_type": "code",
   "execution_count": 40,
   "metadata": {},
   "outputs": [],
   "source": [
    "# 2 - Recoding Not Stated to the mode (151)\n",
    "data['PNBEARG'].replace(to_replace=[9], value=[1],inplace=True)"
   ]
  },
  {
   "cell_type": "code",
   "execution_count": 41,
   "metadata": {},
   "outputs": [
    {
     "data": {
      "text/plain": [
       "0    6985\n",
       "1    3437\n",
       "Name: D_PINHERT, dtype: int64"
      ]
     },
     "execution_count": 41,
     "metadata": {},
     "output_type": "execute_result"
    }
   ],
   "source": [
    "# 3.1 - Creating D_PINHERT: Did you receive an inheritance?\n",
    "data['D_PINHERT']=data['PINHERT']\n",
    "data['D_PINHERT']=np.where(data['D_PINHERT']==999999996,0,1)\n",
    "data['D_PINHERT'].value_counts()"
   ]
  },
  {
   "cell_type": "code",
   "execution_count": 42,
   "metadata": {},
   "outputs": [
    {
     "data": {
      "text/plain": [
       "0"
      ]
     },
     "execution_count": 42,
     "metadata": {},
     "output_type": "execute_result"
    }
   ],
   "source": [
    "# 3.2 - Creating IMP_PINHERT: Impute zeroes to those who didnt recieve an inheritance\n",
    "data['IMP_PINHERT']=data['PINHERT']\n",
    "data['IMP_PINHERT'].replace(to_replace=[999999996],value=[0], inplace=True)\n",
    "data[data['IMP_PINHERT']==999999996]['IMP_PINHERT'].count()"
   ]
  },
  {
   "cell_type": "code",
   "execution_count": 43,
   "metadata": {},
   "outputs": [],
   "source": [
    "# 3.2.1 - Drop PINHERT\n",
    "data.drop(columns=['PINHERT'], inplace=True)"
   ]
  },
  {
   "cell_type": "code",
   "execution_count": 44,
   "metadata": {},
   "outputs": [
    {
     "data": {
      "text/plain": [
       "0    9379\n",
       "1    1043\n",
       "Name: D_PEFATINC, dtype: int64"
      ]
     },
     "execution_count": 44,
     "metadata": {},
     "output_type": "execute_result"
    }
   ],
   "source": [
    "# 4 - Creating D_PEFATINC: is household in the first decile of after tax income?\n",
    "data['D_PEFATINC']=data['PEFATINC']\n",
    "data['D_PEFATINC']=np.where(data['D_PEFATINC']<=data['D_PEFATINC'].quantile(.1),1,0)\n",
    "data['D_PEFATINC'].value_counts()"
   ]
  },
  {
   "cell_type": "code",
   "execution_count": 45,
   "metadata": {},
   "outputs": [
    {
     "data": {
      "text/plain": [
       "0"
      ]
     },
     "execution_count": 45,
     "metadata": {},
     "output_type": "execute_result"
    }
   ],
   "source": [
    "# 5.1 - Creating IMP_PEFMTINC: Impute zeroes to market income\n",
    "data['IMP_PEFMTINC']=data['PEFMTINC']\n",
    "data['IMP_PEFMTINC'].replace(to_replace=[99999999],value=[0], inplace=True)\n",
    "data[data['IMP_PEFMTINC']==99999999]['IMP_PEFMTINC'].count()"
   ]
  },
  {
   "cell_type": "code",
   "execution_count": 46,
   "metadata": {},
   "outputs": [
    {
     "data": {
      "text/plain": [
       "0    9370\n",
       "1    1052\n",
       "Name: D_PEFMTINC, dtype: int64"
      ]
     },
     "execution_count": 46,
     "metadata": {},
     "output_type": "execute_result"
    }
   ],
   "source": [
    "# 5.2 - Creating D_PEFATINC: is household in the first decile of before tax income? (115)\n",
    "data['D_PEFMTINC']=data['PEFMTINC']\n",
    "data['D_PEFMTINC']=np.where(data['D_PEFMTINC']<=data['D_PEFMTINC'].quantile(.1),1,0)\n",
    "data['D_PEFMTINC'].value_counts()"
   ]
  },
  {
   "cell_type": "code",
   "execution_count": 47,
   "metadata": {},
   "outputs": [],
   "source": [
    "data.drop(columns=['PEFMTINC'],inplace=True)"
   ]
  },
  {
   "cell_type": "code",
   "execution_count": 48,
   "metadata": {},
   "outputs": [
    {
     "data": {
      "text/plain": [
       "(10422, 105)"
      ]
     },
     "execution_count": 48,
     "metadata": {},
     "output_type": "execute_result"
    }
   ],
   "source": [
    "data.shape"
   ]
  },
  {
   "cell_type": "markdown",
   "metadata": {},
   "source": [
    "6. FAMILY COMPOSITION"
   ]
  },
  {
   "cell_type": "code",
   "execution_count": 49,
   "metadata": {},
   "outputs": [],
   "source": [
    "# 1 - Recode Not Stated to the mode (131)\n",
    "data['PFSZ'].replace(to_replace=[9], value=[2], inplace=True)"
   ]
  },
  {
   "cell_type": "code",
   "execution_count": 50,
   "metadata": {},
   "outputs": [
    {
     "data": {
      "text/plain": [
       "(10422, 105)"
      ]
     },
     "execution_count": 50,
     "metadata": {},
     "output_type": "execute_result"
    }
   ],
   "source": [
    "data.shape"
   ]
  },
  {
   "cell_type": "markdown",
   "metadata": {},
   "source": [
    "7. MAJOR EARNER"
   ]
  },
  {
   "cell_type": "code",
   "execution_count": 51,
   "metadata": {},
   "outputs": [],
   "source": [
    "# 1 - Recoding to ages of major income earners (18)\n",
    "for i in data['PAGEMIEG']:\n",
    "    if i==1:\n",
    "        data['PAGEMIEG'].replace(to_replace=[i],value=[19],inplace=True)\n",
    "    elif i==2:\n",
    "        data['PAGEMIEG'].replace(to_replace=[i],value=[24],inplace=True)\n",
    "    elif i==3:\n",
    "        data['PAGEMIEG'].replace(to_replace=[i],value=[29],inplace=True)\n",
    "    elif i==4:\n",
    "        data['PAGEMIEG'].replace(to_replace=[i],value=[34],inplace=True)\n",
    "    elif i==5:\n",
    "        data['PAGEMIEG'].replace(to_replace=[i],value=[39],inplace=True)\n",
    "    elif i==6:\n",
    "        data['PAGEMIEG'].replace(to_replace=[i],value=[44],inplace=True)\n",
    "    elif i==7:\n",
    "        data['PAGEMIEG'].replace(to_replace=[i],value=[49],inplace=True)\n",
    "    elif i==8:\n",
    "        data['PAGEMIEG'].replace(to_replace=[i],value=[54],inplace=True)\n",
    "    elif i==9:\n",
    "        data['PAGEMIEG'].replace(to_replace=[i],value=[59],inplace=True)\n",
    "    elif i==10:\n",
    "        data['PAGEMIEG'].replace(to_replace=[i],value=[64],inplace=True)\n",
    "    elif i==11:\n",
    "        data['PAGEMIEG'].replace(to_replace=[i],value=[69],inplace=True)\n",
    "    elif i==12:\n",
    "        data['PAGEMIEG'].replace(to_replace=[i],value=[74],inplace=True)\n",
    "    elif i==13:\n",
    "        data['PAGEMIEG'].replace(to_replace=[i],value=[79],inplace=True)\n",
    "    elif i==14:\n",
    "        data['PAGEMIEG'].replace(to_replace=[i],value=[84],inplace=True)"
   ]
  },
  {
   "cell_type": "code",
   "execution_count": 52,
   "metadata": {},
   "outputs": [],
   "source": [
    "#(pd.DataFrame(data['PAGEMIEG'].value_counts())).sort_index()"
   ]
  },
  {
   "cell_type": "code",
   "execution_count": 53,
   "metadata": {},
   "outputs": [],
   "source": [
    "# 2 - Recode not stated to skip (149)\n",
    "data['PLFFPTME'].replace(to_replace=[9], value=[6], inplace=True)"
   ]
  },
  {
   "cell_type": "code",
   "execution_count": 54,
   "metadata": {},
   "outputs": [
    {
     "data": {
      "text/plain": [
       "(10422, 105)"
      ]
     },
     "execution_count": 54,
     "metadata": {},
     "output_type": "execute_result"
    }
   ],
   "source": [
    "data.shape"
   ]
  },
  {
   "cell_type": "markdown",
   "metadata": {},
   "source": [
    "8. FUNDS"
   ]
  },
  {
   "cell_type": "code",
   "execution_count": 55,
   "metadata": {},
   "outputs": [],
   "source": [
    "fund_var=['PWAOTPEN','PWARPPT','PWASTBND','PWARRIF','PWARRSPL','PWASTDEP','PWASTMUI',\n",
    "'PWASTOIN','PWASTONF','PWASTSTK','PWATFS']"
   ]
  },
  {
   "cell_type": "code",
   "execution_count": 56,
   "metadata": {},
   "outputs": [],
   "source": [
    "for i in data[fund_var]:\n",
    "    data['D_'+i]=data[i]\n",
    "    data['D_'+i]=np.where(data['D_'+i]>1,1,0)"
   ]
  },
  {
   "cell_type": "code",
   "execution_count": 57,
   "metadata": {},
   "outputs": [],
   "source": [
    "data['PWASTSTK'].replace(to_replace=[0],value=[1],inplace=True)"
   ]
  },
  {
   "cell_type": "code",
   "execution_count": 58,
   "metadata": {},
   "outputs": [
    {
     "data": {
      "text/plain": [
       "(10422, 116)"
      ]
     },
     "execution_count": 58,
     "metadata": {},
     "output_type": "execute_result"
    }
   ],
   "source": [
    "data.shape"
   ]
  },
  {
   "cell_type": "markdown",
   "metadata": {},
   "source": [
    "9. DEBT"
   ]
  },
  {
   "cell_type": "code",
   "execution_count": 59,
   "metadata": {},
   "outputs": [
    {
     "data": {
      "text/plain": [
       "1    7322\n",
       "0    3100\n",
       "Name: D_PWDTOTAL, dtype: int64"
      ]
     },
     "execution_count": 59,
     "metadata": {},
     "output_type": "execute_result"
    }
   ],
   "source": [
    "# 1 Creating D_PWDTOTAL: Has debts? (457)\n",
    "data['D_PWDTOTAL']=data['PWDTOTAL']\n",
    "data['D_PWDTOTAL']=np.where(data['D_PWDTOTAL']>0,1,0)\n",
    "data['D_PWDTOTAL'].value_counts()"
   ]
  },
  {
   "cell_type": "code",
   "execution_count": 60,
   "metadata": {},
   "outputs": [
    {
     "data": {
      "text/plain": [
       "0    9302\n",
       "1    1120\n",
       "Name: D_PWDSLOAN, dtype: int64"
      ]
     },
     "execution_count": 60,
     "metadata": {},
     "output_type": "execute_result"
    }
   ],
   "source": [
    "# 2 - Creating D_PWDSLOAN: Has student loans? (385)\n",
    "data['D_PWDSLOAN']=data['PWDSLOAN']\n",
    "data['D_PWDSLOAN']=np.where(data['D_PWDSLOAN']>0,1,0)\n",
    "data['D_PWDSLOAN'].value_counts()"
   ]
  },
  {
   "cell_type": "code",
   "execution_count": 61,
   "metadata": {},
   "outputs": [
    {
     "data": {
      "text/plain": [
       "0    9510\n",
       "1     912\n",
       "Name: D_PWDSTODB, dtype: int64"
      ]
     },
     "execution_count": 61,
     "metadata": {},
     "output_type": "execute_result"
    }
   ],
   "source": [
    "# 3 - Creating D_PWDSTODB: Has debts with other financial institutions? (421)\n",
    "data['D_PWDSTODB']=data['PWDSTODB']\n",
    "data['D_PWDSTODB']=np.where(data['D_PWDSTODB']>0,1,0)\n",
    "data['D_PWDSTODB'].value_counts()"
   ]
  },
  {
   "cell_type": "code",
   "execution_count": 62,
   "metadata": {},
   "outputs": [
    {
     "data": {
      "text/plain": [
       "0    7157\n",
       "1    3265\n",
       "Name: D_PWDSTVHN, dtype: int64"
      ]
     },
     "execution_count": 62,
     "metadata": {},
     "output_type": "execute_result"
    }
   ],
   "source": [
    "# 4 - Creating D_PWDSTVHN: Has debts on vehicles? (445)\n",
    "data['D_PWDSTVHN']=data['PWDSTVHN']\n",
    "data['D_PWDSTVHN']=np.where(data['D_PWDSTVHN']>0,1,0)\n",
    "data['D_PWDSTVHN'].value_counts()"
   ]
  },
  {
   "cell_type": "code",
   "execution_count": 63,
   "metadata": {},
   "outputs": [
    {
     "data": {
      "text/plain": [
       "(10422, 120)"
      ]
     },
     "execution_count": 63,
     "metadata": {},
     "output_type": "execute_result"
    }
   ],
   "source": [
    "data.shape"
   ]
  },
  {
   "cell_type": "markdown",
   "metadata": {},
   "source": [
    "10. ASSETS"
   ]
  },
  {
   "cell_type": "code",
   "execution_count": 64,
   "metadata": {},
   "outputs": [
    {
     "data": {
      "text/plain": [
       "1    8888\n",
       "0    1534\n",
       "Name: D_PWASTVHE, dtype: int64"
      ]
     },
     "execution_count": 64,
     "metadata": {},
     "output_type": "execute_result"
    }
   ],
   "source": [
    "# 1 - Creating D_PWASTVHE: Has vehicles? (313)\n",
    "data['D_PWASTVHE']=data['PWASTVHE']\n",
    "data['D_PWASTVHE']=np.where(data['D_PWASTVHE']>0,1,0)\n",
    "data['D_PWASTVHE'].value_counts()"
   ]
  },
  {
   "cell_type": "code",
   "execution_count": 65,
   "metadata": {},
   "outputs": [
    {
     "data": {
      "text/plain": [
       "0    9379\n",
       "1    1043\n",
       "Name: D_PWATOTPT, dtype: int64"
      ]
     },
     "execution_count": 65,
     "metadata": {},
     "output_type": "execute_result"
    }
   ],
   "source": [
    "# 2 - Creating D_PWATOTPT: is in the first decile?\n",
    "data['D_PWATOTPT']=data['PWATOTPT']\n",
    "data['D_PWATOTPT']=np.where(data['D_PWATOTPT']<=data['D_PWATOTPT'].quantile(.1),1,0)\n",
    "data['D_PWATOTPT'].value_counts()"
   ]
  },
  {
   "cell_type": "code",
   "execution_count": 66,
   "metadata": {},
   "outputs": [
    {
     "data": {
      "text/plain": [
       "(10422, 122)"
      ]
     },
     "execution_count": 66,
     "metadata": {},
     "output_type": "execute_result"
    }
   ],
   "source": [
    "data.shape"
   ]
  },
  {
   "cell_type": "markdown",
   "metadata": {},
   "source": [
    "11. NET WORTH"
   ]
  },
  {
   "cell_type": "code",
   "execution_count": 67,
   "metadata": {},
   "outputs": [
    {
     "data": {
      "text/plain": [
       "0    9941\n",
       "1     481\n",
       "Name: D1_PWNETWPT, dtype: int64"
      ]
     },
     "execution_count": 67,
     "metadata": {},
     "output_type": "execute_result"
    }
   ],
   "source": [
    "# 1 - Creating D_PWNETWPT: Has negative equity?\n",
    "data['D1_PWNETWPT']=data['PWNETWPT']\n",
    "data['D1_PWNETWPT']=np.where(data['D1_PWNETWPT']<0,1,0)\n",
    "data['D1_PWNETWPT'].value_counts()"
   ]
  },
  {
   "cell_type": "code",
   "execution_count": 68,
   "metadata": {},
   "outputs": [
    {
     "data": {
      "text/plain": [
       "0    9377\n",
       "1    1045\n",
       "Name: D2_PWNETWPT, dtype: int64"
      ]
     },
     "execution_count": 68,
     "metadata": {},
     "output_type": "execute_result"
    }
   ],
   "source": [
    "data['D2_PWNETWPT']=data['PWNETWPT']\n",
    "data['D2_PWNETWPT']=np.where(data['D2_PWNETWPT']<=data['D2_PWNETWPT'].quantile(.1),1,0)\n",
    "data['D2_PWNETWPT'].value_counts()"
   ]
  },
  {
   "cell_type": "code",
   "execution_count": 69,
   "metadata": {},
   "outputs": [
    {
     "data": {
      "text/plain": [
       "(10422, 124)"
      ]
     },
     "execution_count": 69,
     "metadata": {},
     "output_type": "execute_result"
    }
   ],
   "source": [
    "data.shape"
   ]
  },
  {
   "cell_type": "code",
   "execution_count": 70,
   "metadata": {},
   "outputs": [],
   "source": [
    "data.rename(columns={'PFS17':'PFSZ0017'}, inplace=True)"
   ]
  },
  {
   "cell_type": "code",
   "execution_count": 71,
   "metadata": {},
   "outputs": [],
   "source": [
    "data.to_csv('pre_eda_data.csv')"
   ]
  }
 ],
 "metadata": {
  "kernelspec": {
   "display_name": "Python 3.8.8 ('base')",
   "language": "python",
   "name": "python3"
  },
  "language_info": {
   "codemirror_mode": {
    "name": "ipython",
    "version": 3
   },
   "file_extension": ".py",
   "mimetype": "text/x-python",
   "name": "python",
   "nbconvert_exporter": "python",
   "pygments_lexer": "ipython3",
   "version": "3.8.8"
  },
  "orig_nbformat": 4,
  "vscode": {
   "interpreter": {
    "hash": "2c0e72ba481b4aff17fed9e91fce139954fe4059fa70b70e95b4ab3a14f8da5d"
   }
  }
 },
 "nbformat": 4,
 "nbformat_minor": 2
}
